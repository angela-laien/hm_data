{
 "cells": [
  {
   "cell_type": "code",
   "execution_count": 130,
   "metadata": {},
   "outputs": [
    {
     "data": {
      "text/plain": [
       "[<matplotlib.lines.Line2D at 0x7fb441525c40>]"
      ]
     },
     "execution_count": 130,
     "metadata": {},
     "output_type": "execute_result"
    },
    {
     "data": {
      "image/png": "[encoded data removed]",
      "text/plain": [
       "<Figure size 432x288 with 1 Axes>"
      ]
     },
     "metadata": {
      "needs_background": "light"
     },
     "output_type": "display_data"
    }
   ],
   "source": [
    "import pandas as pd\n",
    "import matplotlib.pyplot as plt\n",
    "df = pd.read_csv('data_aug27.csv')\n",
    "x = df[\"customer_number\"]\n",
    "y = df[\"tts\"]\n",
    "plt.xlabel(\"Customer Number\")\n",
    "plt.ylabel(\"Total Time to Service in Seconds\")\n",
    "plt.plot(x,y)"
   ]
  },
  {
   "cell_type": "code",
   "execution_count": 131,
   "metadata": {
    "scrolled": true
   },
   "outputs": [
    {
     "data": {
      "text/html": [
       "<div>\n",
       "<style scoped>\n",
       "    .dataframe tbody tr th:only-of-type {\n",
       "        vertical-align: middle;\n",
       "    }\n",
       "\n",
       "    .dataframe tbody tr th {\n",
       "        vertical-align: top;\n",
       "    }\n",
       "\n",
       "    .dataframe thead th {\n",
       "        text-align: right;\n",
       "    }\n",
       "</style>\n",
       "<table border=\"1\" class=\"dataframe\">\n",
       "  <thead>\n",
       "    <tr style=\"text-align: right;\">\n",
       "      <th></th>\n",
       "      <th>customer_number</th>\n",
       "      <th>day_part</th>\n",
       "      <th>first_seen_datetime_local</th>\n",
       "      <th>first_seen_datetime_utc</th>\n",
       "      <th>first_seen_local</th>\n",
       "      <th>first_seen_utc</th>\n",
       "      <th>id</th>\n",
       "      <th>location</th>\n",
       "      <th>model_id</th>\n",
       "      <th>tts</th>\n",
       "    </tr>\n",
       "  </thead>\n",
       "  <tbody>\n",
       "    <tr>\n",
       "      <th>0</th>\n",
       "      <td>0</td>\n",
       "      <td>1</td>\n",
       "      <td>NaN</td>\n",
       "      <td>NaN</td>\n",
       "      <td>1596439156</td>\n",
       "      <td>1596464356</td>\n",
       "      <td>288</td>\n",
       "      <td>1</td>\n",
       "      <td>94</td>\n",
       "      <td>257</td>\n",
       "    </tr>\n",
       "    <tr>\n",
       "      <th>1</th>\n",
       "      <td>1</td>\n",
       "      <td>1</td>\n",
       "      <td>NaN</td>\n",
       "      <td>NaN</td>\n",
       "      <td>1596465075</td>\n",
       "      <td>1596490275</td>\n",
       "      <td>289</td>\n",
       "      <td>1</td>\n",
       "      <td>83</td>\n",
       "      <td>309</td>\n",
       "    </tr>\n",
       "    <tr>\n",
       "      <th>2</th>\n",
       "      <td>2</td>\n",
       "      <td>1</td>\n",
       "      <td>NaN</td>\n",
       "      <td>NaN</td>\n",
       "      <td>1596465212</td>\n",
       "      <td>1596490412</td>\n",
       "      <td>290</td>\n",
       "      <td>1</td>\n",
       "      <td>97</td>\n",
       "      <td>257</td>\n",
       "    </tr>\n",
       "    <tr>\n",
       "      <th>3</th>\n",
       "      <td>3</td>\n",
       "      <td>1</td>\n",
       "      <td>NaN</td>\n",
       "      <td>NaN</td>\n",
       "      <td>1596441646</td>\n",
       "      <td>1596466846</td>\n",
       "      <td>291</td>\n",
       "      <td>1</td>\n",
       "      <td>1</td>\n",
       "      <td>263</td>\n",
       "    </tr>\n",
       "    <tr>\n",
       "      <th>4</th>\n",
       "      <td>4</td>\n",
       "      <td>1</td>\n",
       "      <td>NaN</td>\n",
       "      <td>NaN</td>\n",
       "      <td>1596442173</td>\n",
       "      <td>1596467373</td>\n",
       "      <td>292</td>\n",
       "      <td>1</td>\n",
       "      <td>94</td>\n",
       "      <td>165</td>\n",
       "    </tr>\n",
       "  </tbody>\n",
       "</table>\n",
       "</div>"
      ],
      "text/plain": [
       "   customer_number  day_part  first_seen_datetime_local  \\\n",
       "0                0         1                        NaN   \n",
       "1                1         1                        NaN   \n",
       "2                2         1                        NaN   \n",
       "3                3         1                        NaN   \n",
       "4                4         1                        NaN   \n",
       "\n",
       "   first_seen_datetime_utc  first_seen_local  first_seen_utc   id  location  \\\n",
       "0                      NaN        1596439156      1596464356  288         1   \n",
       "1                      NaN        1596465075      1596490275  289         1   \n",
       "2                      NaN        1596465212      1596490412  290         1   \n",
       "3                      NaN        1596441646      1596466846  291         1   \n",
       "4                      NaN        1596442173      1596467373  292         1   \n",
       "\n",
       "   model_id  tts  \n",
       "0        94  257  \n",
       "1        83  309  \n",
       "2        97  257  \n",
       "3         1  263  \n",
       "4        94  165  "
      ]
     },
     "execution_count": 131,
     "metadata": {},
     "output_type": "execute_result"
    }
   ],
   "source": [
    "df.head()"
   ]
  },
  {
   "cell_type": "code",
   "execution_count": 159,
   "metadata": {},
   "outputs": [
    {
     "data": {
      "text/plain": [
       "<matplotlib.axes._subplots.AxesSubplot at 0x7fb43fdb6640>"
      ]
     },
     "execution_count": 159,
     "metadata": {},
     "output_type": "execute_result"
    },
    {
     "data": {
      "image/png": "[encoded data removed]",
      "text/plain": [
       "<Figure size 432x288 with 1 Axes>"
      ]
     },
     "metadata": {
      "needs_background": "light"
     },
     "output_type": "display_data"
    }
   ],
   "source": [
    "new = df['day_part']\n",
    "new2 = new.value_counts()\n",
    "new2.plot.bar()"
   ]
  },
  {
   "cell_type": "code",
   "execution_count": null,
   "metadata": {},
   "outputs": [],
   "source": []
  }
 ],
 "metadata": {
  "kernelspec": {
   "display_name": "Python 3",
   "language": "python",
   "name": "python3"
  },
  "language_info": {
   "codemirror_mode": {
    "name": "ipython",
    "version": 3
   },
   "file_extension": ".py",
   "mimetype": "text/x-python",
   "name": "python",
   "nbconvert_exporter": "python",
   "pygments_lexer": "ipython3",
   "version": "3.8.3"
  }
 },
 "nbformat": 4,
 "nbformat_minor": 4
}
